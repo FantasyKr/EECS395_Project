{
 "cells": [
  {
   "cell_type": "code",
   "execution_count": 22,
   "metadata": {},
   "outputs": [],
   "source": [
    "import pandas as pd\n",
    "from pandas.api.types import is_numeric_dtype\n",
    "import numpy as np\n",
    "import matplotlib.pyplot as plt\n",
    "import seaborn as sns\n",
    "from sklearn.model_selection import train_test_split\n",
    "from sklearn.ensemble import RandomForestClassifier\n",
    "from sklearn.neighbors import KNeighborsClassifier\n",
    "from sklearn.naive_bayes import GaussianNB\n",
    "from sklearn.metrics import confusion_matrix\n",
    "from sklearn.metrics import plot_confusion_matrix\n",
    "\n",
    "import itertools\n",
    "sns.set(style=\"darkgrid\")"
   ]
  },
  {
   "cell_type": "code",
   "execution_count": 16,
   "metadata": {},
   "outputs": [],
   "source": [
    "df1 = pd.read_csv('diagnosis-of-covid-19-and-its-clinical-spectrum.csv', skip_blank_lines = True)\n",
    "df = df1.fillna(value=0)"
   ]
  },
  {
   "cell_type": "code",
   "execution_count": 17,
   "metadata": {},
   "outputs": [],
   "source": [
    "def attribute_list():\n",
    "    return list(df)"
   ]
  },
  {
   "cell_type": "markdown",
   "metadata": {},
   "source": [
    " Read in the data\n",
    "-Processing?\n",
    "\n",
    " Create X matrix, y vector\n",
    "-Train , test, split\n",
    "\n",
    " Machine learning\n",
    "-Random Forest Classifier\n",
    "-KNN Classifier\n",
    "\n",
    "\n",
    "Metrics (ROC/AUC, confusion matrix)"
   ]
  },
  {
   "cell_type": "code",
   "execution_count": 18,
   "metadata": {},
   "outputs": [],
   "source": [
    "def plot_confusion_matrix(x_label, predicted_label, normalize=False, colormap=plt.cm.Blues):\n",
    "    return confusion_matrix(x_label,predicted_label)\n",
    "    if normalize:\n",
    "        c_matrix=c_matrix/c_matrix.sum(axis=1)[:,np.newaxis]\n",
    "    x_unique=np.unique(x_label)\n",
    "    predicted_unique=np.unique(predicted_label)\n",
    "    c_matrixuni=np.union1d(x_unique,predicted_unique)\n",
    "    x_complement=np.setxor1d(c_matrixuni,x_unique)\n",
    "    predicted_complement=np.setxor1d(c_matrixuni,predicted_unique)\n",
    "    x_complementlocation=np.zeros(len(x_complement))\n",
    "  \n",
    "    predicted_complementlocation=np.zeros(len(predicted_complement))\n",
    "    for i,j in itertools.product(range(c_matrixuni.shape[0]),range(x_complement.shape[0])):\n",
    "        if c_matrixuni[i]==x_complement[j]:\n",
    "            x_complementlocation[j]=i\n",
    "    for i,j in itertools.product(range(c_matrixuni.shape[0]),range(predicted_complement.shape[0])):\n",
    "        if c_matrixuni[i]==predicted_complement[j]:\n",
    "            predicted_complementlocation[j]=i\n",
    "    c_matrix=np.delete(c_matrix, x_complementlocation,axis=0)\n",
    "    c_matrix=np.delete(c_matrix,predicted_complementlocation,axis=1)\n",
    "    plt.imshow(c_matrix, interpolation='none', cmap=colormap)\n",
    "    plt.colorbar()\n",
    "    plt.grid(False)\n",
    "    plt.xticks(np.arange(0,int(predicted_unique.shape[0])),predicted_unique.astype(int),rotation=45)\n",
    "    plt.yticks(np.arange(0,int(x_unique.shape[0])),x_unique,rotation=45)\n",
    "    plt.xlabel('Predicted Labels')\n",
    "    plt.ylabel('Real Labels')\n",
    "  \n",
    "    for i, j in itertools.product(range(c_matrix.shape[0]), range(c_matrix.shape[1])):\n",
    "        plt.text(j,i,format(c_matrix[i,j],'d'), \n",
    "            horizontalalignment='center', \n",
    "            verticalalignment='center', \n",
    "            color='white' if c_matrix[i,j]>np.max(c_matrix)/2 else 'black')\n",
    "    plt.tight_layout() "
   ]
  },
  {
   "cell_type": "code",
   "execution_count": 19,
   "metadata": {
    "scrolled": false
   },
   "outputs": [
    {
     "name": "stdout",
     "output_type": "stream",
     "text": [
      "Accuracy (in percentage) of Random Forest Model\n",
      "90.56687333923827\n",
      "sklearn Accuracy Score\n",
      "0.9056687333923826\n"
     ]
    },
    {
     "data": {
      "image/png": "[encoded data removed]",
      "text/plain": [
       "<Figure size 432x288 with 1 Axes>"
      ]
     },
     "metadata": {},
     "output_type": "display_data"
    }
   ],
   "source": [
    "def rand_forest(pred_attr_index, feature_list):\n",
    "    X = df.iloc[:,feature_list]\n",
    "    y = df.iloc[:,pred_attr_index]\n",
    "    X_train, X_test, y_train, y_test = train_test_split(X,y,test_size=0.4,random_state=1)\n",
    "    model = RandomForestClassifier()\n",
    "    model.fit(X_train,y_train)\n",
    "    \n",
    "    num_right = 0\n",
    "    y_predicted = model.predict(X_test)\n",
    "    y_test_list = y_test.tolist()\n",
    "    for i in range(y_predicted.shape[0]):\n",
    "        if y_predicted[i] == y_test_list[i]:\n",
    "            num_right = num_right + 1\n",
    "    print(\"Accuracy (in percentage) of Random Forest Model\")\n",
    "    print(num_right * 100/y_predicted.shape[0])\n",
    "    \n",
    "    from sklearn.metrics import accuracy_score\n",
    "    print('sklearn Accuracy Score')\n",
    "    print(accuracy_score(y_test,y_predicted))\n",
    "    \n",
    "    _=plot_confusion_matrix(y_test, y_predicted)\n",
    "    _=plt.title('Confusion Matrix for Random Forest Model')\n",
    "\n",
    "feature_list = [1,6,7,8,9,10]\n",
    "rand_forest(2, feature_list)"
   ]
  },
  {
   "cell_type": "code",
   "execution_count": 20,
   "metadata": {},
   "outputs": [
    {
     "name": "stdout",
     "output_type": "stream",
     "text": [
      "Accuracy (in percentage) of K Nearest Neighbors Model\n",
      "86.89105403011514\n",
      "sklearn Accuracy Score\n",
      "0.8689105403011514\n"
     ]
    },
    {
     "data": {
      "image/png": "[encoded data removed]",
      "text/plain": [
       "<Figure size 432x288 with 1 Axes>"
      ]
     },
     "metadata": {},
     "output_type": "display_data"
    }
   ],
   "source": [
    "def k_neighbors(pred_attr_index, feature_list):\n",
    "    X = df.iloc[:,feature_list]\n",
    "    y = df.iloc[:,pred_attr_index]\n",
    "    X_train, X_test, y_train, y_test = train_test_split(X,y,test_size=0.4,random_state=1)\n",
    "    model = KNeighborsClassifier()\n",
    "    model.fit(X_train,y_train)\n",
    "    \n",
    "    num_right = 0\n",
    "    y_predicted = model.predict(X_test)\n",
    "    y_test_list = y_test.tolist()\n",
    "    for i in range(y_predicted.shape[0]):\n",
    "        if y_predicted[i] == y_test_list[i]:\n",
    "            num_right = num_right + 1\n",
    "    print(\"Accuracy (in percentage) of K Nearest Neighbors Model\")\n",
    "    print(num_right * 100/y_predicted.shape[0])\n",
    "    \n",
    "    from sklearn.metrics import accuracy_score\n",
    "    print('sklearn Accuracy Score')\n",
    "    print(accuracy_score(y_test,y_predicted))\n",
    "    \n",
    "    _=plot_confusion_matrix(y_test, y_predicted)\n",
    "    _=plt.title('Confusion Matrix for K Nearest Neighbors Model')\n",
    "\n",
    "feature_list = [1,6,7,8,9,10]\n",
    "k_neighbors(2, feature_list)"
   ]
  },
  {
   "cell_type": "code",
   "execution_count": 21,
   "metadata": {},
   "outputs": [
    {
     "name": "stdout",
     "output_type": "stream",
     "text": [
      "Accuracy (in percentage) of Gaussian Naive Bayes Model\n",
      "87.466784765279\n",
      "sklearn Accuracy Score\n",
      "0.87466784765279\n"
     ]
    },
    {
     "data": {
      "image/png": "[encoded data removed]",
      "text/plain": [
       "<Figure size 432x288 with 1 Axes>"
      ]
     },
     "metadata": {},
     "output_type": "display_data"
    }
   ],
   "source": [
    "def naive_bayes(pred_attr_index, feature_list):\n",
    "    X = df.iloc[:,feature_list]\n",
    "    y = df.iloc[:,pred_attr_index]\n",
    "    X_train, X_test, y_train, y_test = train_test_split(X,y,test_size=0.4,random_state=1)\n",
    "    model = GaussianNB()\n",
    "    model.fit(X_train,y_train)\n",
    "    \n",
    "    num_right = 0\n",
    "    y_predicted = model.predict(X_test)\n",
    "    y_test_list = y_test.tolist()\n",
    "    for i in range(y_predicted.shape[0]):\n",
    "        if y_predicted[i] == y_test_list[i]:\n",
    "            num_right = num_right + 1\n",
    "    print(\"Accuracy (in percentage) of Gaussian Naive Bayes Model\")\n",
    "    print(num_right * 100/y_predicted.shape[0])\n",
    "    \n",
    "    from sklearn.metrics import accuracy_score\n",
    "    print('sklearn Accuracy Score')\n",
    "    print(accuracy_score(y_test,y_predicted))\n",
    "    \n",
    "    _=plot_confusion_matrix(y_test, y_predicted)\n",
    "    _=plt.title('Confusion Matrix for Gaussian Naive Bayes Model')\n",
    "\n",
    "feature_list = [1,6,7,8,9,10]\n",
    "naive_bayes(2, feature_list)"
   ]
  },
  {
   "cell_type": "code",
   "execution_count": null,
   "metadata": {},
   "outputs": [],
   "source": []
  }
 ],
 "metadata": {
  "kernelspec": {
   "display_name": "Python 3",
   "language": "python",
   "name": "python3"
  },
  "language_info": {
   "codemirror_mode": {
    "name": "ipython",
    "version": 3
   },
   "file_extension": ".py",
   "mimetype": "text/x-python",
   "name": "python",
   "nbconvert_exporter": "python",
   "pygments_lexer": "ipython3",
   "version": "3.7.4"
  }
 },
 "nbformat": 4,
 "nbformat_minor": 2
}
