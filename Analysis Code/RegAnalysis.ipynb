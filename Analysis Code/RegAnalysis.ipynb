{
 "cells": [
  {
   "cell_type": "code",
   "execution_count": 39,
   "metadata": {},
   "outputs": [],
   "source": [
    "import pandas as pd\n",
    "from pandas.api.types import is_numeric_dtype\n",
    "import numpy as np\n",
    "import matplotlib.pyplot as plt\n",
    "import seaborn as sns\n",
    "sns.set(style=\"darkgrid\")"
   ]
  },
  {
   "cell_type": "code",
   "execution_count": 40,
   "metadata": {},
   "outputs": [],
   "source": [
    "df = pd.read_csv('fortune500.csv')"
   ]
  },
  {
   "cell_type": "markdown",
   "metadata": {},
   "source": [
    "This method returns a list of attributes from the dataset."
   ]
  },
  {
   "cell_type": "code",
   "execution_count": 51,
   "metadata": {},
   "outputs": [
    {
     "data": {
      "text/plain": [
       "'Year'"
      ]
     },
     "execution_count": 51,
     "metadata": {},
     "output_type": "execute_result"
    }
   ],
   "source": [
    "def attribute_list():\n",
    "    return list(df)"
   ]
  },
  {
   "cell_type": "markdown",
   "metadata": {},
   "source": [
    "This is a helper method for checking attribute data types."
   ]
  },
  {
   "cell_type": "code",
   "execution_count": 52,
   "metadata": {},
   "outputs": [],
   "source": [
    "def check_dtype(attr_index):\n",
    "    attributes = attribute_list()\n",
    "    if is_numeric_dtype(df[attributes[attr_index]]):\n",
    "        return True\n",
    "    else:\n",
    "        return False"
   ]
  },
  {
   "cell_type": "markdown",
   "metadata": {},
   "source": [
    "This method will output the average and standard deviation over a selected attribute, given an attribute with an appropriate data type."
   ]
  },
  {
   "cell_type": "code",
   "execution_count": 43,
   "metadata": {},
   "outputs": [],
   "source": [
    "def mean(attr_index):\n",
    "    attributes = attribute_list()\n",
    "    if check_dtype(attr_index):\n",
    "        mean_val = df[attributes[attr_index]].mean(skipna = True)\n",
    "        std_val = df[attributes[attr_index]].std(skipna = True)\n",
    "        return 'The calculated mean over the %s attribute is %s, with standard deviation %s.' % (attributes[attr_index], mean_val, std_val)\n",
    "    else:\n",
    "        return 'A mean value cannot be calculated due to inappropriate data type.'"
   ]
  },
  {
   "cell_type": "markdown",
   "metadata": {},
   "source": [
    "This method will output the median over a selected attribute, given an attribute with an appropriate data type."
   ]
  },
  {
   "cell_type": "code",
   "execution_count": 44,
   "metadata": {},
   "outputs": [],
   "source": [
    "def median(attr_index):\n",
    "    attributes = attribute_list()\n",
    "    if check_dtype(attr_index):\n",
    "        median_val = df[attributes[attr_index]].median(skipna = True)\n",
    "        return 'The calculated median over the %s attribute is %s.' % (attributes[attr_index], median_val)\n",
    "    else:\n",
    "        return 'A median value cannot be calculated due to inappropriate data type.'"
   ]
  },
  {
   "cell_type": "markdown",
   "metadata": {},
   "source": [
    "This method will output the mode over a selected attribute, given an attribute with an appropriate data type."
   ]
  },
  {
   "cell_type": "code",
   "execution_count": 45,
   "metadata": {},
   "outputs": [],
   "source": [
    "def mode(attr_index):\n",
    "    attributes = attribute_list()\n",
    "    modes = df[attributes[attr_index]].mode(dropna = True).values\n",
    "    if modes.size > 1:\n",
    "        return 'The calculated modes over the %s attribute are %s.' % (attributes[attr_index], str(modes)[1:-1])\n",
    "    else:\n",
    "        return 'The calculated mode over the %s attribute is %s.' % (attributes[attr_index], str(modes)[1:-1])"
   ]
  },
  {
   "cell_type": "markdown",
   "metadata": {},
   "source": [
    "This method will output the min and max over a selected attribute, given an attribute with an appropriate data type."
   ]
  },
  {
   "cell_type": "code",
   "execution_count": 46,
   "metadata": {},
   "outputs": [],
   "source": [
    "def minmax(attr_index):\n",
    "    attributes = attribute_list()\n",
    "    if check_dtype(attr_index):\n",
    "        min_val = df[attributes[attr_index]].min(skipna = True)\n",
    "        max_val = df[attributes[attr_index]].max(skipna = True)\n",
    "        return 'The calculated minimum over the %s attribute is %s. The calculated max is %s' % (attributes[attr_index], min_val, max_val)\n",
    "    else:\n",
    "        return 'A minimum/maximum value cannot be calculated due to inappropriate data type.'"
   ]
  },
  {
   "cell_type": "markdown",
   "metadata": {},
   "source": [
    "This method will output a general description of statistical values."
   ]
  },
  {
   "cell_type": "code",
   "execution_count": 47,
   "metadata": {},
   "outputs": [],
   "source": [
    "def desc_data():\n",
    "    include =['object', 'float', 'int']\n",
    "    return df.describe(include = include)"
   ]
  },
  {
   "cell_type": "markdown",
   "metadata": {},
   "source": [
    "This will output rows within specified percentiles, given an attribute with an appropriate data type."
   ]
  },
  {
   "cell_type": "markdown",
   "metadata": {},
   "source": [
    "def perc(min, max, attr_index):\n",
    "    if min < 1 and max < 1 and min < max:\n",
    "        if check_dtype(attr_index):\n",
    "            val = df[attributes[attr_index]].values\n",
    "            q1 = np.quantile(val, q = min)\n",
    "            q2 = np.quantile(val, q = max)\n",
    "            mask = ((q1 < val) & (val < q2)).all(0)\n",
    "            return df[mask]\n",
    "        else:\n",
    "            return 'Percentiles cannot be calculated due to inappropriate data type.'\n",
    "    else:\n",
    "        return 'Percentiles out of range.'\n",
    "perc(.35,.75,0)"
   ]
  },
  {
   "cell_type": "code",
   "execution_count": 48,
   "metadata": {},
   "outputs": [],
   "source": [
    "def interval(low_perc, high_perc, attr_index):\n",
    "    attributes = attribute_list()\n",
    "    if check_dtype(attr_index) and type(low_perc) == int and type(high_perc) == int:\n",
    "        if(low_perc < high_perc and low_perc >= 0 and high_perc <= 100):\n",
    "            df_sort = df.sort_values(by=[attributes[attr_index]])\n",
    "            low_bound = int(len(df)*low_perc/100)\n",
    "            high_bound = int(len(df)*high_perc/100)\n",
    "            return df_sort[low_bound:high_bound].copy()\n",
    "        else:\n",
    "            print('Please enter valid percentile values.')\n",
    "    else:\n",
    "        print('Dese not numbas.')"
   ]
  }
 ],
 "metadata": {
  "kernelspec": {
   "display_name": "Python 3",
   "language": "python",
   "name": "python3"
  },
  "language_info": {
   "codemirror_mode": {
    "name": "ipython",
    "version": 3
   },
   "file_extension": ".py",
   "mimetype": "text/x-python",
   "name": "python",
   "nbconvert_exporter": "python",
   "pygments_lexer": "ipython3",
   "version": "3.7.4"
  }
 },
 "nbformat": 4,
 "nbformat_minor": 2
}
